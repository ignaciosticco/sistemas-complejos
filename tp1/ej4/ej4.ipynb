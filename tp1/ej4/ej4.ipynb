{
 "cells": [
  {
   "cell_type": "markdown",
   "metadata": {},
   "source": [
    "# Ejercicio 4"
   ]
  },
  {
   "cell_type": "markdown",
   "metadata": {},
   "source": [
    "En este ejercicio analizamos la asortatividad en diferentes redes. En la primer parte analizamos redes de colaboradores de publicaciones científicas y sistemas autónomos de internet. En la segunda parte estudiamos la asortatividad de las redes de proteinas:  Yeast-Y2H y Yeast-AP/MS"
   ]
  },
  {
   "cell_type": "code",
   "execution_count": 10,
   "metadata": {},
   "outputs": [],
   "source": [
    "## Importacion de librerias ##\n",
    "import networkx as nx\n",
    "import numpy as np\n",
    "import matplotlib.pyplot as plt\n",
    "import random\n",
    "import math\n",
    "import pylab\n",
    "import scipy.stats\n",
    "from scipy import stats "
   ]
  },
  {
   "cell_type": "code",
   "execution_count": 11,
   "metadata": {},
   "outputs": [],
   "source": [
    "## Caracteristicas de los graficos ##\n",
    "\n",
    "golden_mean = (math.sqrt(5)-1.0)/2.0       # Aesthetic ratio\n",
    "fig_width = 7+3/8                       # width  in inches\n",
    "fig_height = fig_width*golden_mean         # height in inches\n",
    "fig_size =  [fig_width,fig_height]\n",
    "\n",
    "params = {'backend': 'ps',\n",
    "          'axes.titlesize': 18,\n",
    "          'axes.labelsize': 19,\n",
    "          'axes.linewidth': 0.5, \n",
    "          'axes.grid': False,\n",
    "          'axes.labelweight': 'normal',  \n",
    "          'font.family': 'serif',\n",
    "          'font.size': 18.0,\n",
    "          'font.weight': 'normal',\n",
    "          'text.color': 'black',\n",
    "          'xtick.labelsize': 18,\n",
    "          'ytick.labelsize': 18,\n",
    "          'text.usetex': True,\n",
    "          'legend.fontsize': 18,\n",
    "          'figure.dpi': 700,\n",
    "          'figure.figsize': fig_size,\n",
    "          'savefig.dpi': 700,\n",
    "         }\n",
    "\n",
    "pylab.rcParams.update(params)"
   ]
  },
  {
   "cell_type": "markdown",
   "metadata": {},
   "source": [
    "Leemos los archivos de datos"
   ]
  },
  {
   "cell_type": "code",
   "execution_count": 12,
   "metadata": {},
   "outputs": [],
   "source": [
    "def ldata(archive):\n",
    "    f=open(archive)\n",
    "    data=[]\n",
    "    for line in f:\n",
    "        line=line.strip()\n",
    "        col=line.split()\n",
    "        data.append(col)\n",
    "    return data"
   ]
  },
  {
   "cell_type": "code",
   "execution_count": 13,
   "metadata": {},
   "outputs": [],
   "source": [
    "G_colaboraciones=nx.read_gml('netscience.gml')"
   ]
  },
  {
   "cell_type": "code",
   "execution_count": 14,
   "metadata": {},
   "outputs": [],
   "source": [
    "G_internet=ldata('as-22july06_edgelist.txt')"
   ]
  },
  {
   "cell_type": "markdown",
   "metadata": {},
   "source": [
    "Creamos una función para conocer el máximo id de la red de internet."
   ]
  },
  {
   "cell_type": "code",
   "execution_count": 15,
   "metadata": {},
   "outputs": [],
   "source": [
    "def busco_max(G):\n",
    "    m = 0\n",
    "    i = 0\n",
    "    l=len(G)\n",
    "    while i<l:\n",
    "        m1=int(G[i][0])\n",
    "        m2=int(G[i][1])\n",
    "        \n",
    "        if(m1>m2 and m1>m):\n",
    "            m=m1\n",
    "        elif(m2>m1 and m2>m):\n",
    "            m=m2\n",
    "\n",
    "        i+=1\n",
    "    \n",
    "    return m"
   ]
  },
  {
   "cell_type": "markdown",
   "metadata": {},
   "source": [
    "Calculamos el grado medio de los vecinos de cada uno de los nodos. Para eso, creamos la siguiente función:"
   ]
  },
  {
   "cell_type": "code",
   "execution_count": 16,
   "metadata": {},
   "outputs": [],
   "source": [
    "def grado_vecinos_internet(G):\n",
    "    \n",
    "    i = 0\n",
    "    maximo_id = busco_max(G)\n",
    "    len_red = len(G)\n",
    "    \n",
    "    vector_grado_vecinos = np.zeros(maximo_id+1)\n",
    "    vector_grado = np.zeros(maximo_id+1)\n",
    "    grado_medio_vecinos = np.zeros(maximo_id+1)\n",
    "\n",
    "    while i<len_red:\n",
    "        indice_1 = int(G[i][0])\n",
    "        indice_2 = int(G[i][1])\n",
    "        vector_grado[indice_1] += 1\n",
    "        vector_grado[indice_2] += 1\n",
    "\n",
    "        i+=1\n",
    "\n",
    "    i = 0\n",
    "    while i<len_red:\n",
    "        indice_1 = int(G[i][0])\n",
    "        indice_2 = int(G[i][1])\n",
    "        vector_grado_vecinos[indice_1] += vector_grado[indice_2]\n",
    "        vector_grado_vecinos[indice_2] += vector_grado[indice_1]\n",
    "        i+=1\n",
    "    \n",
    "    i = 0    \n",
    "    while i<maximo_id:\n",
    "        if(vector_grado[i]>0):\n",
    "            grado_medio_vecinos[i] = vector_grado_vecinos[i] / float(vector_grado[i])\n",
    "        i+=1            \n",
    "        \n",
    "    return (vector_grado,grado_medio_vecinos)\n",
    "    "
   ]
  },
  {
   "cell_type": "code",
   "execution_count": 17,
   "metadata": {},
   "outputs": [],
   "source": [
    "def grado_vecinos(G):\n",
    "    A = nx.adjacency_matrix(G)  # Matriz de adycencia\n",
    "    i=0\n",
    "    cantidad_nodos = G.number_of_nodes()\n",
    "    vector_grado_vecinos = np.zeros(cantidad_nodos)\n",
    "    vector_grado = np.zeros(cantidad_nodos)\n",
    "    grado_medio_vecinos = np.zeros(cantidad_nodos)\n",
    "\n",
    "    while i<cantidad_nodos:\n",
    "        j=i+1\n",
    "        vecinos = list(G.degree)[i][1]\n",
    "        if (vecinos>0):\n",
    "            vector_grado[i] = vecinos\n",
    "            vector_grado_vecinos[i] += vecinos\n",
    "            while j<cantidad_nodos:\n",
    "                if (A[i,j]==1):\n",
    "                    vector_grado_vecinos[i] += list(G.degree)[j][1]\n",
    "                    vector_grado_vecinos[j] += vecinos\n",
    "                j+=1\n",
    "        i+=1\n",
    "        \n",
    "    i=0\n",
    "    \n",
    "    while i<cantidad_nodos:\n",
    "        if(vector_grado[i]>0):\n",
    "            grado_medio_vecinos[i] = vector_grado_vecinos[i] / float(vector_grado[i])\n",
    "        i+=1            \n",
    "        \n",
    "    return (vector_grado,grado_medio_vecinos)"
   ]
  },
  {
   "cell_type": "code",
   "execution_count": 18,
   "metadata": {},
   "outputs": [],
   "source": [
    "resultados_G_colaboraciones=grado_vecinos(G_colaboraciones)"
   ]
  },
  {
   "cell_type": "code",
   "execution_count": 19,
   "metadata": {},
   "outputs": [],
   "source": [
    "resultados_G_internet=grado_vecinos_internet(G_internet)"
   ]
  },
  {
   "cell_type": "markdown",
   "metadata": {},
   "source": [
    "Creamos una función que hace un histograma en donde a cada grado (k) se le asocia el número medio de vecinos para dicho grado."
   ]
  },
  {
   "cell_type": "code",
   "execution_count": 20,
   "metadata": {},
   "outputs": [],
   "source": [
    "def knn_k(vector_grado,grado_medio_vecinos):\n",
    "    i=0\n",
    "    m = int(max(vector_grado))\n",
    "    knn_tmp = np.zeros(m+1)\n",
    "    vector_N = np.zeros(m+1)\n",
    "    \n",
    "    while i<len(vector_grado):\n",
    "        indice = int(vector_grado[i])\n",
    "        knn_tmp[indice]+=grado_medio_vecinos[i]\n",
    "        vector_N[indice]+=1\n",
    "        i+=1\n",
    "    \n",
    "    i = 0\n",
    "    knn_k = []\n",
    "    vector_k = []\n",
    "\n",
    "    while i<m+1:\n",
    "        if(vector_N[i]>0.0):\n",
    "            knn_k+=[knn_tmp[i]/float(vector_N[i])]\n",
    "            vector_k+=[i]\n",
    "        i+=1\n",
    "    resultado = [vector_k,knn_k]    \n",
    "    return resultado       "
   ]
  },
  {
   "cell_type": "code",
   "execution_count": 21,
   "metadata": {},
   "outputs": [],
   "source": [
    "histograma_colaboraciones=knn_k(resultados_G_colaboraciones[0],resultados_G_colaboraciones[1])\n",
    "histograma_internet=knn_k(resultados_G_internet[0],resultados_G_internet[1])"
   ]
  },
  {
   "cell_type": "markdown",
   "metadata": {},
   "source": [
    "Graficamos la relación entre el grado de un nodo y el grado medio de sus vecinos en escala lineal."
   ]
  },
  {
   "cell_type": "code",
   "execution_count": 22,
   "metadata": {},
   "outputs": [
    {
     "data": {
      "image/png": "[encoded data removed]",
      "text/plain": [
       "<Figure size 864x432 with 2 Axes>"
      ]
     },
     "metadata": {},
     "output_type": "display_data"
    }
   ],
   "source": [
    "vector_k_colaboraciones=np.linspace(0,len(histograma_colaboraciones),len(histograma_colaboraciones))\n",
    "vector_k_internet=np.linspace(0,len(histograma_internet),len(histograma_internet))\n",
    "\n",
    "fig, ax = plt.subplots(ncols=2, nrows=1, figsize=(12,6))\n",
    "\n",
    "ax[0].plot(histograma_colaboraciones[0], histograma_colaboraciones[1], 'g.')\n",
    "ax[0].set_xlabel(\"k\")\n",
    "ax[0].set_ylabel(\"$k_{nn}$\")\n",
    "ax[0].title.set_text('Colaboraciones cientificas')\n",
    "\n",
    "ax[1].plot(histograma_internet[0], histograma_internet[1], 'b*')\n",
    "ax[1].set_ylabel(\"$k_{nn}$\")\n",
    "ax[1].set_xlabel(\"k\")\n",
    "ax[1].title.set_text('Sistemas autonomos')\n",
    "plt.show()"
   ]
  },
  {
   "cell_type": "markdown",
   "metadata": {},
   "source": [
    "Graficamos la relación entre el grado de un nodo y el grado medio de sus vecinos en escala logarítmica."
   ]
  },
  {
   "cell_type": "code",
   "execution_count": 23,
   "metadata": {},
   "outputs": [
    {
     "data": {
      "image/png": "[encoded data removed]",
      "text/plain": [
       "<Figure size 864x432 with 2 Axes>"
      ]
     },
     "metadata": {},
     "output_type": "display_data"
    }
   ],
   "source": [
    "fig, ax = plt.subplots(ncols=2, nrows=1, figsize=(12,6))\n",
    "\n",
    "ax[0].plot(histograma_colaboraciones[0], histograma_colaboraciones[1], 'g.')\n",
    "ax[0].set_xlabel(\"k\")\n",
    "ax[0].set_ylabel(\"$k_{nn}$\")\n",
    "ax[0].set_xscale(\"log\")\n",
    "ax[0].set_yscale(\"log\")\n",
    "ax[0].title.set_text('Colaboraciones cientificas')\n",
    "\n",
    "ax[1].plot(histograma_internet[0], histograma_internet[1], 'b*')\n",
    "ax[1].set_ylabel(\"$k_{nn}$\")\n",
    "ax[1].set_xlabel(\"k\")\n",
    "ax[1].set_xscale(\"log\")\n",
    "ax[1].set_yscale(\"log\")\n",
    "ax[1].title.set_text('Sistemas autonomos')\n",
    "plt.show()"
   ]
  },
  {
   "cell_type": "markdown",
   "metadata": {},
   "source": [
    "En los dos casos se puede observar que ambas función de correlación de grado poseen un comportamiento tipo \"power law\" ($k_{nn} \\backsim k^{\\mu}$). Sin embargo, la red de colaboraciones científicas es asortativa mientras que la red de sistemas autónomos de internet es disortativa [5]. \n",
    "\n",
    "Con el fin de caracterizar ambas redes, a continuación se realiza una regresión lineal de ambas curvas en la zona donde se observa un comportamiento lineal entre $\\kappa$ y $k_{nn}$"
   ]
  },
  {
   "cell_type": "code",
   "execution_count": 24,
   "metadata": {},
   "outputs": [],
   "source": [
    "kmax_colaboraciones = 11\n",
    "xlog_colaboraciones = np.log10(histograma_colaboraciones[0][1:kmax_colaboraciones])\n",
    "ylog_colaboraciones = np.log10(histograma_colaboraciones[1][1:kmax_colaboraciones])\n",
    "\n",
    "kmax_internet = len(histograma_internet[0])\n",
    "xlog_internet = np.log10(histograma_internet[0][10:kmax_internet])\n",
    "ylog_internet = np.log10(histograma_internet[1][10:kmax_internet])\n",
    "\n",
    "slope_colaboraciones, intercept_colaboraciones, r_value_colaboraciones, p_value, std_err = stats.linregress(xlog_colaboraciones, ylog_colaboraciones)\n",
    "slope_internet, intercept_internet, r_value_internet, p_value, std_err = stats.linregress(xlog_internet, ylog_internet)"
   ]
  },
  {
   "cell_type": "markdown",
   "metadata": {},
   "source": [
    "Graficamos los datos de cada red junto con los ajustes respectivos."
   ]
  },
  {
   "cell_type": "code",
   "execution_count": 25,
   "metadata": {},
   "outputs": [
    {
     "data": {
      "image/png": "[encoded data removed]",
      "text/plain": [
       "<Figure size 864x432 with 2 Axes>"
      ]
     },
     "metadata": {},
     "output_type": "display_data"
    }
   ],
   "source": [
    "fig, ax = plt.subplots(ncols=2, nrows=1, figsize=(12,6))\n",
    "\n",
    "ax[0].plot(xlog_colaboraciones, ylog_colaboraciones, 'g.', label='Data')\n",
    "ax[0].plot(xlog_colaboraciones, intercept_colaboraciones + slope_colaboraciones*xlog_colaboraciones, 'r', label='Ajuste')\n",
    "ax[0].set_xlabel('$log_{10}(k)$')\n",
    "ax[0].set_ylabel('$log_{10}(k_{nn})$')\n",
    "ax[0].title.set_text('Colaboraciones cientificas')\n",
    "ax[0].legend()\n",
    "\n",
    "ax[1].plot(xlog_internet, ylog_internet, 'b*', label='Data')\n",
    "ax[1].plot(xlog_internet, intercept_internet + slope_internet*xlog_internet, 'r', label='Ajuste')\n",
    "ax[1].set_xlabel('$log_{10}(k)$')\n",
    "ax[1].set_ylabel('$log_{10}(k_{nn})$')\n",
    "ax[1].title.set_text('Sistemas autonomos')\n",
    "ax[1].legend()\n",
    "plt.show()"
   ]
  },
  {
   "cell_type": "markdown",
   "metadata": {},
   "source": [
    "A simple vista (signo de las pendientes de las curvas) podemos determinar que la red de colaboraciones es asortativa, es decir, los nodos de alto grado se conectan con otros nodos de alto grado. "
   ]
  },
  {
   "cell_type": "code",
   "execution_count": 26,
   "metadata": {},
   "outputs": [
    {
     "name": "stdout",
     "output_type": "stream",
     "text": [
      "Bondad del ajuste (colaboraciones) = 0.995\n",
      "Exponente de la distribución (colaboraciones cientificas) = 0.435\n",
      "Bondad del ajuste (sistemas autonomos) = 0.327\n",
      "Exponente de la distribución (sistemas autonomos) = -0.426\n"
     ]
    }
   ],
   "source": [
    "print \"Bondad del ajuste (colaboraciones) =\",round(r_value_colaboraciones**2,3)\n",
    "print \"Exponente de la distribución (colaboraciones cientificas) =\",round(slope_colaboraciones,3)\n",
    "\n",
    "print \"Bondad del ajuste (sistemas autonomos) =\",round(r_value_internet**2,3)\n",
    "print \"Exponente de la distribución (sistemas autonomos) =\",round(slope_internet,3)"
   ]
  },
  {
   "cell_type": "markdown",
   "metadata": {},
   "source": [
    "Otra manera de medir la correlación de la red es utilizar el estimador de Newman [3,4]. A diferencia de la función de correlación de grado ($k_{nn} \\backsim k^{\\mu}$), el estimador de Newman asume un comportamiento $k_{nn} \\backsim rk$, donde r se denomina coeficiente de correlación. \n",
    "\n",
    "A continuación se crean dos funciones auxiliares para calcular el estimador de Newman."
   ]
  },
  {
   "cell_type": "code",
   "execution_count": 7,
   "metadata": {},
   "outputs": [],
   "source": [
    "def S(G):\n",
    "    A = nx.adjacency_matrix(G)  # Matriz de adycencia\n",
    "    cantidad_nodos = G.number_of_nodes()\n",
    "    i = 0\n",
    "    S1 = 0\n",
    "    S2 = 0\n",
    "    S3 = 0\n",
    "    while i<cantidad_nodos:\n",
    "        value = list(G.degree)[i][1] \n",
    "        S1 += value\n",
    "        S2 += value*value\n",
    "        S3 += value*value*value   \n",
    "        i+=1\n",
    "    resultado=[S1,S2,S3]\n",
    "    return resultado"
   ]
  },
  {
   "cell_type": "code",
   "execution_count": 8,
   "metadata": {},
   "outputs": [],
   "source": [
    "def se(G):\n",
    "    i=0\n",
    "    se = 0.0\n",
    "    while i< len(list(G.edges)):\n",
    "        nombre_1 =  list(G.edges)[i][0]\n",
    "        k_1 = G.degree()[nombre_1]\n",
    "        nombre_2 =  list(G.edges)[i][1]\n",
    "        k_2 = G.degree()[nombre_2]\n",
    "        se+=k_1*k_2\n",
    "        i+=1\n",
    "    return 2*se"
   ]
  },
  {
   "cell_type": "code",
   "execution_count": 14,
   "metadata": {},
   "outputs": [],
   "source": [
    "vector_S_colaboraciones = S(G_colaboraciones)\n",
    "vector_S_colaboraciones += [se(G_colaboraciones)]"
   ]
  },
  {
   "cell_type": "code",
   "execution_count": 17,
   "metadata": {},
   "outputs": [],
   "source": [
    "G_internet_n=nx.read_gml('as-22july06.gml')\n",
    "vector_S_internet = S(G_internet_n)"
   ]
  },
  {
   "cell_type": "code",
   "execution_count": null,
   "metadata": {},
   "outputs": [],
   "source": [
    "## Tarda demasiado tiempo!!\n",
    "vector_S_internet += [se(G_internet_n)]"
   ]
  },
  {
   "cell_type": "markdown",
   "metadata": {},
   "source": [
    "Ahora sí calculamos el estimador de Newman."
   ]
  },
  {
   "cell_type": "code",
   "execution_count": 15,
   "metadata": {},
   "outputs": [],
   "source": [
    "def r(vector_S):\n",
    "    numerador = vector_S[0]*vector_S[3]-vector_S[1]**2\n",
    "    denominador = vector_S[0]*vector_S[2]-vector_S[1]**2\n",
    "    r = numerador/float(denominador)\n",
    "    return r"
   ]
  },
  {
   "cell_type": "code",
   "execution_count": 16,
   "metadata": {},
   "outputs": [
    {
     "name": "stdout",
     "output_type": "stream",
     "text": [
      "Estimador de Newman (Red de colaboraciones) =  0.461622466753\n"
     ]
    }
   ],
   "source": [
    "r_colaboraciones=r(vector_S_colaboraciones)\n",
    "#r_internet=r(vector_S_internet)\n",
    "print 'Estimador de Newman (Red de colaboraciones) = ',r_colaboraciones "
   ]
  },
  {
   "cell_type": "markdown",
   "metadata": {},
   "source": [
    "## Redes biológicas\n",
    "Ahora analizaremos las redes de proteinas: yeast Y2H y yeast AP/MS.  \n",
    "Graficaremos la media del grado de vecinos correspondientes a grado $\\kappa$ y calcularemos el exponente de correlación $\\mu$ de cada una. \n",
    "\n",
    "### Yeast Y2H"
   ]
  },
  {
   "cell_type": "code",
   "execution_count": 81,
   "metadata": {},
   "outputs": [],
   "source": [
    "##### Importamos la data yeast_Y2H #####\n",
    "G_yeast_Y2H = nx.read_edgelist('yeast_Y2H.txt')"
   ]
  },
  {
   "cell_type": "code",
   "execution_count": 82,
   "metadata": {},
   "outputs": [],
   "source": [
    "### Definimos todas las funciones a utilizar en esta parte ###\n",
    "def grado_vecinos_yeast(G):\n",
    "    A = nx.adjacency_matrix(G)  # Matriz de adycencia\n",
    "    i=0\n",
    "    vector_grado=[]\n",
    "    grado_medio_vecinos=[]\n",
    "    cantidad_nodos = G.number_of_nodes()\n",
    "    while i<cantidad_nodos:\n",
    "        j=0\n",
    "        acumula_grado_vecinos = 0\n",
    "        vecinos = list(G.degree)[i][1]\n",
    "        if (vecinos>0):\n",
    "            vector_grado += [vecinos]\n",
    "            while j<cantidad_nodos:\n",
    "                if (A[i,j]==1):\n",
    "                    acumula_grado_vecinos +=list(G.degree)[j][1]\n",
    "                j+=1\n",
    "            grado_medio_vecinos+=[acumula_grado_vecinos/float(vecinos)]\n",
    "        i+=1\n",
    "    return (vector_grado,grado_medio_vecinos)\n",
    "\n",
    "def remove_zeros(vector):\n",
    "    x = []\n",
    "    y = []\n",
    "    i=0\n",
    "    while i<len(vector):\n",
    "        if vector[i]>0:\n",
    "            x+=[i]\n",
    "            y+=[vector[i]]\n",
    "        i+=1\n",
    "    result= [x,y]\n",
    "    return result\n",
    "\n",
    "def knn_k_yeast(vector_grado,grado_medio_vecinos):\n",
    "    i=0\n",
    "    knn_tmp = np.zeros(max(vector_grado)+1)\n",
    "    vector_N = np.zeros(max(vector_grado)+1)\n",
    "    \n",
    "    while i<len(vector_grado):\n",
    "        indice = vector_grado[i]\n",
    "        knn_tmp[indice]+=grado_medio_vecinos[i]\n",
    "        vector_N[indice]+=1\n",
    "        i+=1\n",
    "    \n",
    "    i=0\n",
    "    knn_k = np.zeros(max(vector_grado)+1)\n",
    "\n",
    "    while i<len(knn_k):\n",
    "        if(vector_N[i]>0.0):\n",
    "            knn_k[i]=knn_tmp[i]/float(vector_N[i])\n",
    "        else:\n",
    "            knn_k[i]=0.0\n",
    "        i+=1\n",
    "    return(knn_k)    "
   ]
  },
  {
   "cell_type": "code",
   "execution_count": 83,
   "metadata": {},
   "outputs": [],
   "source": [
    "## Procesamos los datos para obtener knn(k) ##\n",
    "resultados_yeast_Y2H = grado_vecinos_yeast(G_yeast_Y2H)\n",
    "knnk_yeast_Y2H = knn_k_yeast(resultados_yeast_Y2H[0],resultados_yeast_Y2H[1])"
   ]
  },
  {
   "cell_type": "code",
   "execution_count": 84,
   "metadata": {},
   "outputs": [],
   "source": [
    "vector_k_Y2H = remove_zeros(knnk_yeast_Y2H)[0]\n",
    "knnk_yeast_Y2H = remove_zeros(knnk_yeast_Y2H)[1]"
   ]
  },
  {
   "cell_type": "code",
   "execution_count": 85,
   "metadata": {},
   "outputs": [
    {
     "name": "stdout",
     "output_type": "stream",
     "text": [
      "Exponente de correlacion: -0.23715025643094714\n"
     ]
    }
   ],
   "source": [
    "## Logaritmizamos k y knn ##\n",
    "xlog_Y2H = np.log(vector_k_Y2H[2:])\n",
    "ylog_Y2H = np.log(knnk_yeast_Y2H[2:])\n",
    "slope_Y2H, intercept_Y2H, r_value_Y2H, p_value_Y2H, std_err_Y2H = stats.linregress(xlog_Y2H, ylog_Y2H)\n",
    "print \"Exponente de correlacion:\", slope_Y2H"
   ]
  },
  {
   "cell_type": "code",
   "execution_count": 87,
   "metadata": {},
   "outputs": [
    {
     "data": {
      "image/png": "[encoded data removed]",
      "text/plain": [
       "<Figure size 864x432 with 2 Axes>"
      ]
     },
     "metadata": {},
     "output_type": "display_data"
    }
   ],
   "source": [
    "## Plots de Y2H ##\n",
    "fig, ax = plt.subplots(ncols=2, nrows=1, figsize=(12,6))\n",
    "\n",
    "ax[0].plot(vector_k_Y2H,knnk_yeast_Y2H, 'o', label='Data')\n",
    "ax[0].set_xlabel('$\\kappa$ ')\n",
    "ax[0].set_ylabel('$K_{nn}$')\n",
    "ax[0].title.set_text('Y2H')\n",
    "ax[0].legend()\n",
    "\n",
    "ax[1].plot(xlog_Y2H, ylog_Y2H, 'b*', label='Data')\n",
    "ax[1].plot(xlog_Y2H, intercept_Y2H + slope_Y2H*xlog_Y2H, 'r', label='Ajuste')\n",
    "ax[1].set_xlabel('$log_{10}(k)$')\n",
    "ax[1].set_ylabel('$log_{10}(k_{nn})$')\n",
    "ax[1].title.set_text('Y2H Logaritmizado')\n",
    "ax[1].legend()\n",
    "\n",
    "plt.show()"
   ]
  },
  {
   "cell_type": "markdown",
   "metadata": {},
   "source": [
    "Obtenemos un exponente de correlación negativo ($\\mu$ = -0.23). A priori uno podría pensar que este resultado se debe al hecho de que las redes de proteínas tienden a ser disortativas por el simple hecho de ser redes biologicas$^{[1]}$. Más alla de esto, el comportamiento disortativo está además vinculado a la técnica Y2H que detecta interacciones binarias$^{[6]}$. \n",
    "\n",
    "Hay que destacar que la mayoría de las redes son disortativas en grado por ser grafos simples (grafos sin loops ni enlaces dobles). La excepción son las redes sociales (y unas pocas otras) que son asortativas gracias su estructura de grupos (forman pequenas comunidades que estan separadas del resto)$^{[1]}$.   "
   ]
  },
  {
   "cell_type": "markdown",
   "metadata": {},
   "source": [
    "### Yeast AP/MS\n",
    "Hacemos el mismo análisis para la red \"yeast_AP-MS\""
   ]
  },
  {
   "cell_type": "code",
   "execution_count": 88,
   "metadata": {},
   "outputs": [],
   "source": [
    "##### Importamos la data de yeast_AP-MS #####\n",
    "G_yeast_APMS = nx.read_edgelist('yeast_AP-MS.txt')\n",
    "resultados_yeast_APMS = grado_vecinos_yeast(G_yeast_APMS)\n",
    "knnk_yeast_APMS = knn_k_yeast(resultados_yeast_APMS[0],resultados_yeast_APMS[1])"
   ]
  },
  {
   "cell_type": "code",
   "execution_count": 89,
   "metadata": {},
   "outputs": [],
   "source": [
    "## Procesamos los datos para obtener knn(k) ##\n",
    "vector_k_APMS = remove_zeros(knnk_yeast_APMS)[0]\n",
    "knnk_yeast_APMS = remove_zeros(knnk_yeast_APMS)[1]"
   ]
  },
  {
   "cell_type": "code",
   "execution_count": 90,
   "metadata": {},
   "outputs": [
    {
     "name": "stdout",
     "output_type": "stream",
     "text": [
      "Exponente de correlacion: 0.6003091893290151\n"
     ]
    }
   ],
   "source": [
    "## Logaritmizamos k y knn ##\n",
    "xlog_APMS = np.log(vector_k_APMS[2:])\n",
    "ylog_APMS = np.log(knnk_yeast_APMS[2:])\n",
    "slope_APMS, intercept_APMS, r_value_APMS, p_value_APMS, std_err_APMS = stats.linregress(xlog_APMS, ylog_APMS)\n",
    "print \"Exponente de correlacion:\", slope_APMS"
   ]
  },
  {
   "cell_type": "code",
   "execution_count": 91,
   "metadata": {},
   "outputs": [
    {
     "data": {
      "image/png": "[encoded data removed]",
      "text/plain": [
       "<Figure size 864x432 with 2 Axes>"
      ]
     },
     "metadata": {},
     "output_type": "display_data"
    }
   ],
   "source": [
    "## Plots de AP/MS ##\n",
    "fig, ax = plt.subplots(ncols=2, nrows=1, figsize=(12,6))\n",
    "\n",
    "ax[0].plot(vector_k_APMS,knnk_yeast_APMS, 'o', label='Data')\n",
    "ax[0].set_xlabel('$\\kappa$ ')\n",
    "ax[0].set_ylabel('$K_{nn}$')\n",
    "ax[0].title.set_text('AP/MS')\n",
    "ax[0].legend()\n",
    "\n",
    "ax[1].plot(xlog_APMS, ylog_APMS, 'b*', label='Data')\n",
    "ax[1].plot(xlog_APMS, intercept_APMS + slope_APMS*xlog_APMS, 'r', label='Ajuste')\n",
    "ax[1].set_xlabel('$log_{10}(k)$')\n",
    "ax[1].set_ylabel('$log_{10}(k_{nn})$')\n",
    "ax[1].title.set_text('AP/MS Logaritmizado')\n",
    "ax[1].legend()\n",
    "\n",
    "plt.show()\n"
   ]
  },
  {
   "cell_type": "markdown",
   "metadata": {},
   "source": [
    "A diferencia de lo obtenido en la red anterior (yeast Y2M), en este caso obtenemos un comportamiento asortativo. Esto es algo llamativo, ya que las redes biológicas tienden a tener un comportamiento disortativo (los hubs tienden a juntarse con los nodos de grado bajo). \n",
    "\n",
    "La razón por la cual esta red poseé comportamiento asortativo tiene que ver con la técnica utilizada para determinar la red de interacción de proteinas. La técnica usada es \"Affinity Purification followed by Mass Spectrometry\" (AP/MS). Esta técnica purifica e identifica complejos de proteinas. A diferencia de la técnica \" yeast two-hybrid\" (Y2H) que detecta interacciones binarias.  \n",
    "\n",
    "Los resultados de este trabajo están en concordancia con los resultados de Yu et al.[6]. Los autores de este paper obtienen un comportamiento ligeramente disortativo para Y2H y un comportamiento altamente asortativo para AP/MS. "
   ]
  },
  {
   "cell_type": "markdown",
   "metadata": {},
   "source": [
    "## Referencias\n",
    "\n",
    "[1] A.-L. Barabási and R.Albert. Emergence of scaling in random networks. Science, 286:509-512, 1999. \n",
    "\n",
    "[2] M. Newman. Networks: An Introduction. Oxford University, Oxford, 2010.\n",
    "\n",
    "[3] M. E. J. Newman. Assortative mixing in networks. Phys. Rev. Lett., 89: 208701, 2002.\n",
    "\n",
    "[4] M. E. J. Newman. Mixing patterns in networks. Phys. Rev. E, 67: 026126, 2003.\n",
    "\n",
    "[5] Rogier Noldus, Piet Van Mieghem; Assortativity in complex networks, Journal of Complex Networks, Volume 3, Issue 4, 1 December 2015, Pages 507–542, https://doi.org/10.1093/comnet/cnv005\n",
    "\n",
    "[6] Yu, X., Ivanic, J., Wallqvist, A., & Reifman, J. (2009). A novel scoring approach for protein co-purification data reveals high interaction specificity. PLoS computational biology, 5(9), e1000515."
   ]
  }
 ],
 "metadata": {
  "kernelspec": {
   "display_name": "Python 2",
   "language": "python",
   "name": "python2"
  },
  "language_info": {
   "codemirror_mode": {
    "name": "ipython",
    "version": 2
   },
   "file_extension": ".py",
   "mimetype": "text/x-python",
   "name": "python",
   "nbconvert_exporter": "python",
   "pygments_lexer": "ipython2",
   "version": "2.7.15"
  }
 },
 "nbformat": 4,
 "nbformat_minor": 2
}
