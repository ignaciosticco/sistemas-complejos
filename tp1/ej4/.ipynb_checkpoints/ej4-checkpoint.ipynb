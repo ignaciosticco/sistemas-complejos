{
 "cells": [
  {
   "cell_type": "markdown",
   "metadata": {},
   "source": [
    "# Ejercicio 4"
   ]
  },
  {
   "cell_type": "code",
   "execution_count": 1,
   "metadata": {},
   "outputs": [],
   "source": [
    "import networkx as nx\n",
    "import numpy as np\n",
    "import matplotlib.pyplot as plt\n",
    "import random\n",
    "import scipy.stats"
   ]
  },
  {
   "cell_type": "markdown",
   "metadata": {},
   "source": [
    "Leemos los archivos de datos"
   ]
  },
  {
   "cell_type": "code",
   "execution_count": 2,
   "metadata": {},
   "outputs": [],
   "source": [
    "G_internet=nx.read_gml('as-22july06.gml')"
   ]
  },
  {
   "cell_type": "code",
   "execution_count": 3,
   "metadata": {},
   "outputs": [],
   "source": [
    "G_colaboraciones=nx.read_gml('netscience.gml')"
   ]
  },
  {
   "cell_type": "markdown",
   "metadata": {},
   "source": [
    "Calculamos el grado medio de los vecinos de cada uno de los nodos"
   ]
  },
  {
   "cell_type": "code",
   "execution_count": 6,
   "metadata": {},
   "outputs": [],
   "source": [
    "def grado_vecinos(G):\n",
    "    A = nx.adjacency_matrix(G)  # Matriz de adycencia\n",
    "    i=0\n",
    "    vector_grados=[]\n",
    "    cantidad_nodos = G.number_of_nodes()\n",
    "    while i<cantidad_nodos:\n",
    "        j=0\n",
    "        acumula_grado = 0\n",
    "        vecinos = list(G.degree)[i][1]\n",
    "        if (vecinos>0):\n",
    "            while j<cantidad_nodos:\n",
    "                if (A[i,j]==1):\n",
    "                    acumula_grado +=list(G.degree)[j][1]\n",
    "                j+=1\n",
    "            vector_grados+=[acumula_grado/vecinos]\n",
    "            i+=1\n",
    "    return vector_grados\n",
    "#print(len(vector_enlaces))"
   ]
  },
  {
   "cell_type": "code",
   "execution_count": null,
   "metadata": {},
   "outputs": [],
   "source": [
    "grado_vecinos(G_colaboraciones)"
   ]
  },
  {
   "cell_type": "code",
   "execution_count": null,
   "metadata": {},
   "outputs": [],
   "source": []
  }
 ],
 "metadata": {
  "kernelspec": {
   "display_name": "Python 2",
   "language": "python",
   "name": "python2"
  },
  "language_info": {
   "codemirror_mode": {
    "name": "ipython",
    "version": 2
   },
   "file_extension": ".py",
   "mimetype": "text/x-python",
   "name": "python",
   "nbconvert_exporter": "python",
   "pygments_lexer": "ipython2",
   "version": "2.7.15"
  }
 },
 "nbformat": 4,
 "nbformat_minor": 2
}
