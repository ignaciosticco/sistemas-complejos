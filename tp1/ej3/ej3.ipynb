{
 "cells": [
  {
   "cell_type": "markdown",
   "metadata": {},
   "source": [
    "# Ejercicio 3"
   ]
  },
  {
   "cell_type": "code",
   "execution_count": 1,
   "metadata": {},
   "outputs": [],
   "source": [
    "import networkx as nx\n",
    "import numpy as np\n",
    "import matplotlib.pyplot as plt\n",
    "import pylab\n",
    "import math\n",
    "import random\n",
    "import scipy.stats\n",
    "from scipy import optimize"
   ]
  },
  {
   "cell_type": "code",
   "execution_count": 2,
   "metadata": {},
   "outputs": [],
   "source": [
    "golden_mean = (math.sqrt(5)-1.0)/2.0       # Aesthetic ratio\n",
    "fig_width = 7+3/8                       # width  in inches\n",
    "fig_height = fig_width*golden_mean         # height in inches\n",
    "fig_size =  [fig_width,fig_height]\n",
    "\n",
    "params = {'backend': 'ps',\n",
    "          'axes.titlesize': 18,\n",
    "          'axes.labelsize': 19,\n",
    "          'axes.linewidth': 0.5, \n",
    "          'axes.grid': False,\n",
    "          'axes.labelweight': 'normal',  \n",
    "          'font.family': 'serif',\n",
    "          'font.size': 18.0,\n",
    "          'font.weight': 'normal',\n",
    "          'text.color': 'black',\n",
    "          'xtick.labelsize': 18,\n",
    "          'ytick.labelsize': 18,\n",
    "          'text.usetex': True,\n",
    "          'legend.fontsize': 18,\n",
    "          'figure.dpi': 700,\n",
    "          'figure.figsize': fig_size,\n",
    "          'savefig.dpi': 700,\n",
    "         }\n",
    "\n",
    "pylab.rcParams.update(params)"
   ]
  },
  {
   "cell_type": "markdown",
   "metadata": {},
   "source": [
    "Leemos el archivo de datos"
   ]
  },
  {
   "cell_type": "code",
   "execution_count": 3,
   "metadata": {},
   "outputs": [],
   "source": [
    "G=nx.read_gml('as-22july06.gml')"
   ]
  },
  {
   "cell_type": "markdown",
   "metadata": {},
   "source": [
    "Creamos un array con el grado de cada nodo en cada una de sus componentes"
   ]
  },
  {
   "cell_type": "code",
   "execution_count": 5,
   "metadata": {},
   "outputs": [],
   "source": [
    "def grados(G):    \n",
    "    i=0\n",
    "    vector_grados=[]\n",
    "    cantidad_nodos = G.number_of_nodes()\n",
    "    while i<cantidad_nodos:\n",
    "        vector_grados+=[list(G.degree)[i][1]]\n",
    "        i+=1\n",
    "    return vector_grados"
   ]
  },
  {
   "cell_type": "code",
   "execution_count": 6,
   "metadata": {},
   "outputs": [],
   "source": [
    "vector_grados=grados(G)"
   ]
  },
  {
   "cell_type": "markdown",
   "metadata": {},
   "source": [
    "Creamos una función para calcular la distribución de grado de la red"
   ]
  },
  {
   "cell_type": "code",
   "execution_count": 68,
   "metadata": {},
   "outputs": [],
   "source": [
    "def distr(vector_grados):\n",
    "    i=0\n",
    "    distr = np.zeros(max(vector_grados)+1)\n",
    "    cantidad_nodos = G.number_of_nodes()\n",
    "    \n",
    "    while i<len(vector_grados):\n",
    "        indice = vector_grados[i]\n",
    "        distr[indice]+=1\n",
    "        i+=1\n",
    "        \n",
    "    distr = distr / cantidad_nodos   \n",
    "    return distr"
   ]
  },
  {
   "cell_type": "code",
   "execution_count": 69,
   "metadata": {},
   "outputs": [],
   "source": [
    "distribucion_grado=distr(vector_grados)"
   ]
  },
  {
   "cell_type": "markdown",
   "metadata": {},
   "source": [
    "Plot de la distibución de grado en escala lineal (ambos ejes) y usando un bineado lineal"
   ]
  },
  {
   "cell_type": "code",
   "execution_count": 89,
   "metadata": {},
   "outputs": [
    {
     "data": {
      "image/png": "[encoded data removed]",
      "text/plain": [
       "<Figure size 504x311.489 with 1 Axes>"
      ]
     },
     "metadata": {},
     "output_type": "display_data"
    }
   ],
   "source": [
    "vector_k=np.linspace(0,max(vector_grados),len(distribucion_grado))\n",
    "plt.plot(vector_k,distribucion_grado,'o')\n",
    "pylab.xlabel('k')\n",
    "pylab.ylabel('$p_k$')\n",
    "plt.title('Degree distribution')\n",
    "plt.show()"
   ]
  },
  {
   "cell_type": "markdown",
   "metadata": {},
   "source": [
    "En el gráfico anterior podemos observar que la escala lineal (de ambos ejes) no nos permite visualizar de forma eficiente la distribución de grado de la red. Por otro lado, notemos que hay tres órdenes de magnitud entre el valor más chico de la distribución (k=0) y el más grande (k=2390). Por lo tanto, es conveniente usar una escala logarítmica para poder visualizar de forma más nitida la distribución. "
   ]
  },
  {
   "cell_type": "code",
   "execution_count": 90,
   "metadata": {},
   "outputs": [
    {
     "data": {
      "image/png": "[encoded data removed]",
      "text/plain": [
       "<Figure size 504x311.489 with 1 Axes>"
      ]
     },
     "metadata": {},
     "output_type": "display_data"
    }
   ],
   "source": [
    "plt.plot(vector_k,distribucion_grado,'o')\n",
    "plt.gca().set_xscale(\"log\")\n",
    "plt.gca().set_yscale(\"log\")\n",
    "pylab.xlabel('k')\n",
    "pylab.ylabel('$p_k$')\n",
    "plt.title('Degree distribution')\n",
    "plt.show()"
   ]
  },
  {
   "cell_type": "markdown",
   "metadata": {},
   "source": [
    "Notemos que usando una escala logarítmica podemos apreciar mejor la forma de la distribución de grado de la red. En este caso, se observa que, salvo para los grados más chicos (k<5) y los más grandes(k>100), la red posee un comportamiento tipo $\\textit{\"power law\"}$ ($p_k \\backsim k^{-\\gamma}$). Las redes cuya distribución de grado sigue una ley de potencias se llaman $\\textit{redes libre de escala}$ [1].\n",
    "\n",
    "Por otro lado, la \"cola\" de la distribución (k>100) tiene un comportamiento constante en k. Esto es consecuencia de haber utilizado un bineado lineal para realizar el gráfico. En este caso, como la cantidad de hubs (nodos con mucho grado) es chica, cada hub de grado k tiene una probabilidad aproximada de 1/N, siendo N la cantidad de nodos de la red. Por este motivo, se produce la cola constante al utilizar un bineado lineal.\n",
    "\n",
    "A continuación se grafica la distribución en escala logarítmica y usando un bineado logarítmico en el eje x (k)."
   ]
  },
  {
   "cell_type": "code",
   "execution_count": 131,
   "metadata": {},
   "outputs": [
    {
     "data": {
      "image/png": "[encoded data removed]",
      "text/plain": [
       "<Figure size 504x311.489 with 1 Axes>"
      ]
     },
     "metadata": {},
     "output_type": "display_data"
    }
   ],
   "source": [
    "y, x, _ = plt.hist(vector_grados, bins=np.logspace(0,4, 25, endpoint=True, base=10.0),density=1)\n",
    "plt.gca().set_xscale(\"log\")\n",
    "plt.gca().set_yscale(\"log\")\n",
    "pylab.xlabel('k')\n",
    "pylab.ylabel('$p_k$')\n",
    "plt.title('Degree distribution')\n",
    "plt.show()"
   ]
  },
  {
   "cell_type": "markdown",
   "metadata": {},
   "source": [
    "Usando el bineado logarítmico el comportamiento constante de la cola de la distribución (escala lineal) desaparece ya que agrupamos varios \"hubs\" en un solo bin. De este modo, cada bin tiene una cantidad de datos comparable con sus respectivos vecinos. "
   ]
  },
  {
   "cell_type": "markdown",
   "metadata": {},
   "source": [
    "Realizamos un ajuste lineal de la distribución de grado de la red para hallar el exponente de la misma. Para llevar a cabo dicho ajuste, se elije un k mínimo de modo tal de no considerar los grados más bajos.  "
   ]
  },
  {
   "cell_type": "code",
   "execution_count": 155,
   "metadata": {},
   "outputs": [],
   "source": [
    "from scipy import stats\n",
    "kmin = 2\n",
    "xlog = np.log10(x[kmin:len(y)-4])\n",
    "ylog = np.log10(y[kmin:len(y)-4])\n",
    "\n",
    "slope, intercept, r_value, p_value, std_err = stats.linregress(xlog, ylog)"
   ]
  },
  {
   "cell_type": "markdown",
   "metadata": {},
   "source": [
    "Graficamos los datos junto con el ajuste correspondiente"
   ]
  },
  {
   "cell_type": "code",
   "execution_count": 158,
   "metadata": {},
   "outputs": [
    {
     "data": {
      "image/png": "[encoded data removed]",
      "text/plain": [
       "<Figure size 504x311.489 with 1 Axes>"
      ]
     },
     "metadata": {},
     "output_type": "display_data"
    }
   ],
   "source": [
    "plt.plot(xlog, ylog, 'o', label='Datos')\n",
    "plt.plot(xlog, intercept + slope*xlog, 'r', label='Ajuste')\n",
    "pylab.xlabel('$log_{10}(k)$')\n",
    "pylab.ylabel('$log_{10}(p_k)$')\n",
    "plt.title('Degree distribution')\n",
    "plt.legend()\n",
    "plt.show()"
   ]
  },
  {
   "cell_type": "code",
   "execution_count": 159,
   "metadata": {},
   "outputs": [
    {
     "name": "stdout",
     "output_type": "stream",
     "text": [
      "Bondad del ajuste = 0.998\n",
      "Exponente de la distribución = 2.062\n"
     ]
    }
   ],
   "source": [
    "print \"Bondad del ajuste =\",round(r_value**2,3)\n",
    "print \"Exponente de la distribución =\",round(-slope,3)"
   ]
  },
  {
   "cell_type": "markdown",
   "metadata": {},
   "source": [
    "De acuerdo al valor del exponente de la distribución, podemos afirmar (teniendo en cuenta la teoría de las redes $\\textit{\"free scale\"}$) que el primer momento de la distribución ($<k>$) es finito, mientras que el segundo momento (y los superiores) divergen (en el límite $N\\rightarrow\\infty$). Como el segundo momento ($<k^2>$) permite calcular la varianza ($\\sigma$), la misma no se encuentra bien definida en este tipo de redes con exponente menor a 3. Por lo tanto, no se puede determinar la $\\textit{\"escala\"}$ de la red, ya que las fluctuaciones alrededor de $<k>$ son enormes. De modo tal que si se elige un nodo de forma arbitraria, su grado puede ser muy chico o muy grande (a priori no es posible estimar su valor). \n",
    "\n",
    "Por último, cabe destacar que las redes aleatorias siguen una distribución de grado tipo Poisson, en donde el segundo momento de la misma cumple $\\sigma=<k>^{1/2}$, y por lo tanto, $<k>$ corresponde, aproximadamente, a la escala de la red.\n",
    "\n",
    "Con el fin de corroborar lo expresado anteriormente, a continuación se calcula el primer y segundo momento de la distribución y la varianza de la misma."
   ]
  },
  {
   "cell_type": "markdown",
   "metadata": {},
   "source": [
    "Creamos una función para calcular los momentos de la distribución"
   ]
  },
  {
   "cell_type": "code",
   "execution_count": 160,
   "metadata": {},
   "outputs": [],
   "source": [
    "def momentos(distribucion):\n",
    "    i = 0\n",
    "    m1 = 0\n",
    "    m2 = 0\n",
    "    \n",
    "    while i<len(distribucion):\n",
    "        m1 += i * distribucion[i]\n",
    "        m2 += i * i * distribucion[i]\n",
    "        \n",
    "        i+=1\n",
    "    varianza = m2 - m1*m1    \n",
    "    momentos = [m1,m2,varianza]    \n",
    "        \n",
    "    return momentos"
   ]
  },
  {
   "cell_type": "code",
   "execution_count": 161,
   "metadata": {},
   "outputs": [
    {
     "name": "stdout",
     "output_type": "stream",
     "text": [
      "Primer momento = 4.219\n",
      "Segundo momento = 1103.0\n",
      "Varianza = 1085.204\n"
     ]
    }
   ],
   "source": [
    "momentos = momentos(distribucion_grado)\n",
    "print \"Primer momento =\",round(momentos[0],3)\n",
    "print \"Segundo momento =\",round(momentos[1],3)\n",
    "print \"Varianza =\",round(momentos[2],3)"
   ]
  },
  {
   "cell_type": "markdown",
   "metadata": {},
   "source": [
    "Estos resultados son consistentes con lo explicado anteriormente. Es decir, no es posible determinar la escala de la red debido al elevado valor de la varianza respecto del primer momento de la distribución ($<k>$). "
   ]
  },
  {
   "cell_type": "markdown",
   "metadata": {},
   "source": [
    "Función distribución acumulada"
   ]
  },
  {
   "cell_type": "markdown",
   "metadata": {},
   "source": [
    "Otra manera de eliminar la cola constante de la distribución es calcular la distribución acumulada ($P_k=\\sum_{q=k}^\\infty p_q$). En este caso, para una distribución libre de escala se cumple que ($P_k \\backsim k^{-\\gamma+1}$). Por lo tanto, este método permite, de otra forma, obtener el exponente de la distribución ($\\gamma$). Cabe destacar que a diferencia de los métodos utilizados anteriormente, en este caso no se utiliza ningún tipo de bineado.  \n",
    "\n",
    "Para calcular la distribución acumulada, creamos la siguiente función:"
   ]
  },
  {
   "cell_type": "code",
   "execution_count": 162,
   "metadata": {},
   "outputs": [],
   "source": [
    "def Cumulative_Distribution(distribucion_grado):\n",
    "    k=0\n",
    "    l = len(distribucion_grado)\n",
    "    cumulative_vector = np.zeros(l+1)\n",
    "    \n",
    "    while k<l: \n",
    "        i=k\n",
    "        while i<l:\n",
    "            cumulative_vector[k]+=distribucion_grado[i]\n",
    "            i+=1\n",
    "        k+=1\n",
    "    return cumulative_vector"
   ]
  },
  {
   "cell_type": "code",
   "execution_count": 164,
   "metadata": {},
   "outputs": [],
   "source": [
    "cumulative_distribution = Cumulative_Distribution(distribucion_grado)"
   ]
  },
  {
   "cell_type": "code",
   "execution_count": 170,
   "metadata": {},
   "outputs": [
    {
     "data": {
      "image/png": "[encoded data removed]",
      "text/plain": [
       "<Figure size 504x311.489 with 1 Axes>"
      ]
     },
     "metadata": {},
     "output_type": "display_data"
    }
   ],
   "source": [
    "plt.plot(cumulative_distribution,'o')\n",
    "plt.gca().set_xscale(\"log\")\n",
    "plt.gca().set_yscale(\"log\")\n",
    "pylab.xlabel('k')\n",
    "pylab.ylabel('$p_k$')\n",
    "plt.title('Cumulative distribution')\n",
    "plt.show()"
   ]
  },
  {
   "cell_type": "code",
   "execution_count": 185,
   "metadata": {},
   "outputs": [],
   "source": [
    "kmin = 10\n",
    "kmax = 500\n",
    "vector_k=np.linspace(0,max(vector_grados),len(distribucion_grado))\n",
    "xlog = np.log10(vector_k[kmin:kmax])\n",
    "ylog = np.log10(cumulative_distribution[kmin:kmax])\n",
    "\n",
    "slope, intercept, r_value, p_value, std_err = stats.linregress(xlog, ylog)"
   ]
  },
  {
   "cell_type": "code",
   "execution_count": 186,
   "metadata": {},
   "outputs": [
    {
     "data": {
      "image/png": "[encoded data removed]",
      "text/plain": [
       "<Figure size 504x311.489 with 1 Axes>"
      ]
     },
     "metadata": {},
     "output_type": "display_data"
    }
   ],
   "source": [
    "plt.plot(xlog, ylog, 'o', label='Datos')\n",
    "plt.plot(xlog, intercept + slope*xlog, 'r', label='Ajuste')\n",
    "pylab.xlabel('$log_{10}(k)$')\n",
    "pylab.ylabel('$log_{10}(p_k)$')\n",
    "plt.title('Cumulative distribution')\n",
    "plt.legend()\n",
    "plt.show()"
   ]
  },
  {
   "cell_type": "code",
   "execution_count": 189,
   "metadata": {},
   "outputs": [
    {
     "name": "stdout",
     "output_type": "stream",
     "text": [
      "Bondad del ajuste = 0.997\n",
      "Pendiente de la recta = -1.043\n"
     ]
    }
   ],
   "source": [
    "print \"Bondad del ajuste =\",round(r_value**2,3)\n",
    "print \"Pendiente de la recta =\",round(slope,3)"
   ]
  },
  {
   "cell_type": "markdown",
   "metadata": {},
   "source": [
    "Por lo tanto, el exponente de la distribución ($\\gamma$) vale 2.043. Notemos que este resultado coincide con el valor obtenido anteriormente mediante la distribución de grado ($\\gamma$=2.062)."
   ]
  },
  {
   "cell_type": "markdown",
   "metadata": {},
   "source": [
    "Referencias:\n",
    "\n",
    "[1] A.-L. Barabási and R.Albert. Emergence of scaling in random networks. Science, 286:509-512, 1999. \n",
    "\n",
    "[2] M. Newman. Networks: An Introduction. Oxford University, Oxford, 2010."
   ]
  },
  {
   "cell_type": "code",
   "execution_count": null,
   "metadata": {},
   "outputs": [],
   "source": []
  }
 ],
 "metadata": {
  "kernelspec": {
   "display_name": "Python 2",
   "language": "python",
   "name": "python2"
  },
  "language_info": {
   "codemirror_mode": {
    "name": "ipython",
    "version": 2
   },
   "file_extension": ".py",
   "mimetype": "text/x-python",
   "name": "python",
   "nbconvert_exporter": "python",
   "pygments_lexer": "ipython2",
   "version": "2.7.15"
  }
 },
 "nbformat": 4,
 "nbformat_minor": 2
}
