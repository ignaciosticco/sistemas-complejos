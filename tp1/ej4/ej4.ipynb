{
 "cells": [
  {
   "cell_type": "markdown",
   "metadata": {},
   "source": [
    "# Ejercicio 4"
   ]
  },
  {
   "cell_type": "code",
   "execution_count": 2,
   "metadata": {},
   "outputs": [],
   "source": [
    "import networkx as nx\n",
    "import numpy as np\n",
    "import matplotlib.pyplot as plt\n",
    "import random\n",
    "import scipy.stats"
   ]
  },
  {
   "cell_type": "markdown",
   "metadata": {},
   "source": [
    "Leemos los archivos de datos"
   ]
  },
  {
   "cell_type": "code",
   "execution_count": 3,
   "metadata": {},
   "outputs": [],
   "source": [
    "G_internet=nx.read_gml('as-22july06.gml')"
   ]
  },
  {
   "cell_type": "code",
   "execution_count": 4,
   "metadata": {},
   "outputs": [],
   "source": [
    "G_colaboraciones=nx.read_gml('netscience.gml')"
   ]
  },
  {
   "cell_type": "markdown",
   "metadata": {},
   "source": [
    "Calculamos el grado medio de los vecinos de cada uno de los nodos"
   ]
  },
  {
   "cell_type": "code",
   "execution_count": 5,
   "metadata": {},
   "outputs": [],
   "source": [
    "def grado_vecinos(G):\n",
    "    A = nx.adjacency_matrix(G)  # Matriz de adycencia\n",
    "    i=0\n",
    "    vector_grado=[]\n",
    "    grado_medio_vecinos=[]\n",
    "    cantidad_nodos = G.number_of_nodes()\n",
    "    while i<cantidad_nodos:\n",
    "        j=0\n",
    "        acumula_grado_vecinos = 0\n",
    "        vecinos = list(G.degree)[i][1]\n",
    "        if (vecinos>0):\n",
    "            vector_grado += [vecinos]\n",
    "            while j<cantidad_nodos:\n",
    "                if (A[i,j]==1):\n",
    "                    acumula_grado_vecinos +=list(G.degree)[j][1]\n",
    "                j+=1\n",
    "            grado_medio_vecinos+=[acumula_grado_vecinos/float(vecinos)]\n",
    "        i+=1\n",
    "    return (vector_grado,grado_medio_vecinos)"
   ]
  },
  {
   "cell_type": "code",
   "execution_count": 6,
   "metadata": {},
   "outputs": [],
   "source": [
    "resultados_G_colaboraciones=grado_vecinos(G_colaboraciones)"
   ]
  },
  {
   "cell_type": "code",
   "execution_count": 7,
   "metadata": {},
   "outputs": [],
   "source": [
    "def knn_k(vector_grado,grado_medio_vecinos):\n",
    "    i=0\n",
    "    knn_tmp = np.zeros(max(vector_grado)+1)\n",
    "    vector_N = np.zeros(max(vector_grado)+1)\n",
    "    \n",
    "    while i<len(vector_grado):\n",
    "        indice = vector_grado[i]\n",
    "        knn_tmp[indice]+=grado_medio_vecinos[i]\n",
    "        vector_N[indice]+=1\n",
    "        i+=1\n",
    "    \n",
    "    i=0\n",
    "    knn_k = np.zeros(max(vector_grado)+1)\n",
    "\n",
    "    while i<len(knn_k):\n",
    "        if(vector_N[i]>0.0):\n",
    "            knn_k[i]=knn_tmp[i]/float(vector_N[i])\n",
    "        else:\n",
    "            knn_k[i]=0.0\n",
    "        i+=1\n",
    "    return(knn_k)        "
   ]
  },
  {
   "cell_type": "code",
   "execution_count": 8,
   "metadata": {},
   "outputs": [],
   "source": [
    "res=knn_k(resultados_G_colaboraciones[0],resultados_G_colaboraciones[1])"
   ]
  },
  {
   "cell_type": "code",
   "execution_count": 9,
   "metadata": {},
   "outputs": [
    {
     "data": {
      "image/png": "[encoded data removed]",
      "text/plain": [
       "<Figure size 432x288 with 1 Axes>"
      ]
     },
     "metadata": {},
     "output_type": "display_data"
    }
   ],
   "source": [
    "vector_k=np.linspace(0,len(res),len(res))\n",
    "\n",
    "plt.plot(vector_k,res,'o')\n",
    "#plt.gca().set_xscale(\"log\")\n",
    "#plt.gca().set_yscale(\"log\")\n",
    "plt.show()"
   ]
  },
  {
   "cell_type": "code",
   "execution_count": 10,
   "metadata": {},
   "outputs": [],
   "source": [
    "from scipy import stats\n",
    "kmax = 11\n",
    "xlog = np.log(vector_k[1:kmax])\n",
    "ylog = np.log(res[1:kmax])\n",
    "\n",
    "slope, intercept, r_value, p_value, std_err = stats.linregress(xlog, ylog)"
   ]
  },
  {
   "cell_type": "code",
   "execution_count": 11,
   "metadata": {},
   "outputs": [
    {
     "data": {
      "image/png": "[encoded data removed]",
      "text/plain": [
       "<Figure size 432x288 with 1 Axes>"
      ]
     },
     "metadata": {},
     "output_type": "display_data"
    }
   ],
   "source": [
    "plt.plot(xlog, ylog, 'o', label='Data')\n",
    "plt.plot(xlog, intercept + slope*xlog, 'r', label='Ajuste')\n",
    "plt.legend()\n",
    "plt.show()"
   ]
  },
  {
   "cell_type": "code",
   "execution_count": 12,
   "metadata": {},
   "outputs": [
    {
     "data": {
      "text/plain": [
       "0.5233324179642919"
      ]
     },
     "execution_count": 12,
     "metadata": {},
     "output_type": "execute_result"
    }
   ],
   "source": [
    "slope"
   ]
  },
  {
   "cell_type": "markdown",
   "metadata": {},
   "source": [
    "Como el exponente de correlación es mayor a cero (0.52) la red de colaboraciones científicas es asortativa."
   ]
  },
  {
   "cell_type": "code",
   "execution_count": 13,
   "metadata": {},
   "outputs": [
    {
     "data": {
      "text/plain": [
       "0.9945787316483126"
      ]
     },
     "execution_count": 13,
     "metadata": {},
     "output_type": "execute_result"
    }
   ],
   "source": [
    "r_value**2"
   ]
  },
  {
   "cell_type": "markdown",
   "metadata": {},
   "source": [
    "Estimador de Newman"
   ]
  },
  {
   "cell_type": "code",
   "execution_count": 56,
   "metadata": {},
   "outputs": [],
   "source": [
    "def S(G):\n",
    "    A = nx.adjacency_matrix(G)  # Matriz de adycencia\n",
    "    cantidad_nodos = G.number_of_nodes()\n",
    "    i = 0\n",
    "    S1 = 0\n",
    "    S2 = 0\n",
    "    S3 = 0\n",
    "    while i<cantidad_nodos:\n",
    "        S1 += list(G.degree)[i][1]\n",
    "        S2 += list(G.degree)[i][1]**2\n",
    "        S3 += list(G.degree)[i][1]**3   \n",
    "        i+=1\n",
    "    resultado=[S1,S2,S3]\n",
    "    return resultado"
   ]
  },
  {
   "cell_type": "code",
   "execution_count": 57,
   "metadata": {},
   "outputs": [],
   "source": [
    "def se(G):\n",
    "    i=0\n",
    "    se = 0.0\n",
    "    while i< len(list(G.edges)):\n",
    "        nombre_1 =  list(G_colaboraciones.edges)[i][0]\n",
    "        k_1 = G.degree()[nombre_1]\n",
    "        nombre_2 =  list(G_colaboraciones.edges)[i][1]\n",
    "        k_2 = G.degree()[nombre_2]\n",
    "        se+=k_1*k_2\n",
    "        i+=1\n",
    "    return 2*se"
   ]
  },
  {
   "cell_type": "code",
   "execution_count": 58,
   "metadata": {},
   "outputs": [],
   "source": [
    "vector_S_colaboraciones = S(G_colaboraciones)\n",
    "vector_S_colaboraciones += [se(G_colaboraciones)]"
   ]
  },
  {
   "cell_type": "code",
   "execution_count": 59,
   "metadata": {},
   "outputs": [],
   "source": [
    "def r(vector_S):\n",
    "    numerador = vector_S[0]*vector_S[3]-vector_S[1]**2\n",
    "    denominador = vector_S[0]*vector_S[2]-vector_S[1]**2\n",
    "    r = numerador/float(denominador)\n",
    "    return r"
   ]
  },
  {
   "cell_type": "code",
   "execution_count": 60,
   "metadata": {},
   "outputs": [
    {
     "data": {
      "text/plain": [
       "0.4616224667525835"
      ]
     },
     "execution_count": 60,
     "metadata": {},
     "output_type": "execute_result"
    }
   ],
   "source": [
    "r(vector_S_colaboraciones)"
   ]
  },
  {
   "cell_type": "code",
   "execution_count": null,
   "metadata": {},
   "outputs": [],
   "source": []
  }
 ],
 "metadata": {
  "kernelspec": {
   "display_name": "Python 2",
   "language": "python",
   "name": "python2"
  },
  "language_info": {
   "codemirror_mode": {
    "name": "ipython",
    "version": 2
   },
   "file_extension": ".py",
   "mimetype": "text/x-python",
   "name": "python",
   "nbconvert_exporter": "python",
   "pygments_lexer": "ipython2",
   "version": "2.7.15"
  }
 },
 "nbformat": 4,
 "nbformat_minor": 2
}
