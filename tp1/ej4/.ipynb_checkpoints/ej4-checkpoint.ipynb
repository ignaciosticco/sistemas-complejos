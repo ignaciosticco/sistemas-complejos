{
 "cells": [
  {
   "cell_type": "markdown",
   "metadata": {},
   "source": [
    "# Ejercicio 4"
   ]
  },
  {
   "cell_type": "code",
   "execution_count": null,
   "metadata": {},
   "outputs": [],
   "source": [
    "import networkx as nx\n",
    "import numpy as np\n",
    "import matplotlib.pyplot as plt\n",
    "import random\n",
    "import scipy.stats"
   ]
  },
  {
   "cell_type": "markdown",
   "metadata": {},
   "source": [
    "Leemos los archivos de datos"
   ]
  },
  {
   "cell_type": "code",
   "execution_count": 2,
   "metadata": {},
   "outputs": [],
   "source": [
    "G_internet=nx.read_gml('as-22july06.gml')"
   ]
  },
  {
   "cell_type": "code",
   "execution_count": 3,
   "metadata": {},
   "outputs": [],
   "source": [
    "G_colaboraciones=nx.read_gml('netscience.gml')"
   ]
  },
  {
   "cell_type": "markdown",
   "metadata": {},
   "source": [
    "Calculamos el grado medio de los vecinos de cada uno de los nodos"
   ]
  },
  {
   "cell_type": "code",
   "execution_count": 23,
   "metadata": {},
   "outputs": [],
   "source": [
    "def grado_vecinos(G):\n",
    "    A = nx.adjacency_matrix(G)  # Matriz de adycencia\n",
    "    i=0\n",
    "    vector_grado=[]\n",
    "    grado_medio_vecinos=[]\n",
    "    cantidad_nodos = G.number_of_nodes()\n",
    "    while i<cantidad_nodos:\n",
    "        j=0\n",
    "        acumula_grado_vecinos = 0\n",
    "        vecinos = list(G.degree)[i][1]\n",
    "        if (vecinos>0):\n",
    "            vector_grado += [vecinos]\n",
    "            while j<cantidad_nodos:\n",
    "                if (A[i,j]==1):\n",
    "                    acumula_grado_vecinos +=list(G.degree)[j][1]\n",
    "                j+=1\n",
    "            grado_medio_vecinos+=[acumula_grado_vecinos/float(vecinos)]\n",
    "        i+=1\n",
    "    return (vector_grado,grado_medio_vecinos)"
   ]
  },
  {
   "cell_type": "code",
   "execution_count": 24,
   "metadata": {},
   "outputs": [],
   "source": [
    "resultados_G_colaboraciones=grado_vecinos(G_colaboraciones)"
   ]
  },
  {
   "cell_type": "code",
   "execution_count": 79,
   "metadata": {},
   "outputs": [],
   "source": [
    "def knn_k(vector_grado,grado_medio_vecinos):\n",
    "    i=0\n",
    "    knn_tmp = np.zeros(max(vector_grado)+1)\n",
    "    vector_N = np.zeros(max(vector_grado)+1)\n",
    "    while i<len(vector_grado):\n",
    "        knn_tmp[vector_grado[i]]+=grado_medio_vecinos[i]\n",
    "        vector_N[vector_grado[i]]+=1\n",
    "        i+=1  \n",
    "    i=0\n",
    "    knn_k = np.zeros(max(vector_grado)+1)\n",
    "\n",
    "    while i<len(knn_k):\n",
    "        if(vector_N[i]>0.0):\n",
    "            knn_k[i]=knn_tmp[i]/float(vector_N[i])\n",
    "        else:\n",
    "            knn_k[i]=0.0\n",
    "        i+=1\n",
    "    return(knn_k)        "
   ]
  },
  {
   "cell_type": "code",
   "execution_count": 85,
   "metadata": {},
   "outputs": [],
   "source": [
    "res=knn_k(resultados_G_colaboraciones[0],resultados_G_colaboraciones[1])"
   ]
  },
  {
   "cell_type": "code",
   "execution_count": 87,
   "metadata": {},
   "outputs": [
    {
     "data": {
      "image/png": "[encoded data removed]",
      "text/plain": [
       "<Figure size 432x288 with 1 Axes>"
      ]
     },
     "metadata": {},
     "output_type": "display_data"
    }
   ],
   "source": [
    "plt.plot(res,'o')\n",
    "plt.show()"
   ]
  },
  {
   "cell_type": "code",
   "execution_count": null,
   "metadata": {},
   "outputs": [],
   "source": []
  }
 ],
 "metadata": {
  "kernelspec": {
   "display_name": "Python 2",
   "language": "python",
   "name": "python2"
  },
  "language_info": {
   "codemirror_mode": {
    "name": "ipython",
    "version": 2
   },
   "file_extension": ".py",
   "mimetype": "text/x-python",
   "name": "python",
   "nbconvert_exporter": "python",
   "pygments_lexer": "ipython2",
   "version": "2.7.15"
  }
 },
 "nbformat": 4,
 "nbformat_minor": 2
}
