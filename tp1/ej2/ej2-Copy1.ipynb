{
 "cells": [
  {
   "cell_type": "markdown",
   "metadata": {},
   "source": [
    "# Ejercicio 2¶"
   ]
  },
  {
   "cell_type": "code",
   "execution_count": 75,
   "metadata": {},
   "outputs": [],
   "source": [
    "import networkx as nx\n",
    "import numpy as np\n",
    "import matplotlib.pyplot as plt\n",
    "import random\n",
    "import scipy.stats"
   ]
  },
  {
   "cell_type": "code",
   "execution_count": 76,
   "metadata": {},
   "outputs": [],
   "source": [
    "G=nx.read_gml('dolphins.gml')\n"
   ]
  },
  {
   "cell_type": "code",
   "execution_count": 77,
   "metadata": {},
   "outputs": [],
   "source": [
    "def ldata(archive):\n",
    "    f=open(archive)\n",
    "    data=[]\n",
    "    for line in f:\n",
    "        line=line.strip()\n",
    "        col=line.split()\n",
    "        data.append(col)\n",
    "    return data\n",
    "data_gender=ldata('dolphinsGender.txt')\n",
    "\n",
    "data_gender\n",
    "colores=[]\n",
    "#le agregamos el atributo \"genero\" al grafo G\n",
    "for elemento in data_gender:\n",
    "    G.node[elemento[0]]['genero']=elemento[1]\n",
    "\n",
    "\n",
    "    \n",
    "#creamos un vector de colores que vincula los generos (mismo orden)     \n",
    "for gen in nx.get_node_attributes(G, \"genero\").values():\n",
    "    if gen=='f':\n",
    "        colores.append('red')\n",
    "    elif gen=='m':\n",
    "        colores.append('blue')\n",
    "    else:\n",
    "        colores.append('grey')\n",
    "        \n"
   ]
  },
  {
   "cell_type": "code",
   "execution_count": 78,
   "metadata": {},
   "outputs": [
    {
     "name": "stdout",
     "output_type": "stream",
     "text": [
      "Double\n",
      "Ripplefluke\n",
      "TSN83\n",
      "Gallatin\n"
     ]
    }
   ],
   "source": [
    "v=0\n",
    "for node_v in G:      # Loop de nodo v\n",
    "    genero_v = nx.get_node_attributes(G, \"genero\").values()[v]\n",
    "    if(genero_v=='NA'):\n",
    "        #G.remove_node(G.node([node_v][0]))\n",
    "        print(list(G.node)[v])\n",
    "    v+=1\n"
   ]
  },
  {
   "cell_type": "code",
   "execution_count": 79,
   "metadata": {},
   "outputs": [
    {
     "data": {
      "text/plain": [
       "EdgeDataView([(u'Haecksel', u'Topless', {'labels': 'hetero'}), (u'Haecksel', u'Jonah', {'labels': 'hetero'}), (u'Haecksel', u'Zap', {'labels': 'hetero'}), (u'Haecksel', u'Beak', {'labels': 'hetero'}), (u'Haecksel', u'SN9', {'labels': 'hetero'}), (u'Haecksel', u'MN83', {'labels': 'hetero'}), (u'Haecksel', u'Vau', {'labels': 'hetero'}), (u'Web', u'SN90', {'labels': 'hetero'}), (u'Web', u'TR82', {'labels': 'hetero'}), (u'Web', u'Jet', {'labels': 'hetero'}), (u'Web', u'DN21', {'labels': 'hetero'}), (u'Web', u'SN89', {'labels': 'hetero'}), (u'Web', u'DN16', {'labels': 'hetero'}), (u'Web', u'Feather', {'labels': 'hetero'}), (u'Web', u'Gallatin', {'labels': 'hetero'}), (u'Web', u'Upbang', {'labels': 'hetero'}), (u'Jet', u'Mus', {'labels': 'hetero'}), (u'Jet', u'DN21', {'labels': 'hetero'}), (u'Jet', u'MN23', {'labels': 'hetero'}), (u'Jet', u'Beescratch', {'labels': 'hetero'}), (u'Jet', u'Quasi', {'labels': 'hetero'}), (u'Jet', u'Number1', {'labels': 'hetero'}), (u'Jet', u'Feather', {'labels': 'hetero'}), (u'Jet', u'Gallatin', {'labels': 'hetero'}), (u'SMN5', u'Patchback', {'labels': 'hetero'}), (u'DN16', u'Feather', {'labels': 'hetero'}), (u'DN16', u'Gallatin', {'labels': 'hetero'}), (u'DN16', u'Wave', {'labels': 'hetero'}), (u'Shmuddel', u'SN4', {'labels': 'hetero'}), (u'Shmuddel', u'Scabs', {'labels': 'hetero'}), (u'Shmuddel', u'Thumper', {'labels': 'hetero'}), (u'Shmuddel', u'TR88', {'labels': 'hetero'}), (u'Shmuddel', u'Grin', {'labels': 'hetero'}), (u'Cross', u'Trigger', {'labels': 'hetero'}), (u'Topless', u'TR99', {'labels': 'hetero'}), (u'Topless', u'Double', {'labels': 'hetero'}), (u'Topless', u'Jonah', {'labels': 'hetero'}), (u'Topless', u'Trigger', {'labels': 'hetero'}), (u'Topless', u'SN4', {'labels': 'hetero'}), (u'Topless', u'MN60', {'labels': 'hetero'}), (u'Topless', u'Zap', {'labels': 'hetero'}), (u'Topless', u'Patchback', {'labels': 'hetero'}), (u'Topless', u'MN105', {'labels': 'hetero'}), (u'Topless', u'MN83', {'labels': 'hetero'}), (u'Beescratch', u'SN90', {'labels': 'hetero'}), (u'Beescratch', u'Oscar', {'labels': 'hetero'}), (u'Beescratch', u'SN100', {'labels': 'hetero'}), (u'Beescratch', u'Number1', {'labels': 'hetero'}), (u'Beescratch', u'Notch', {'labels': 'hetero'}), (u'Beescratch', u'Knit', {'labels': 'hetero'}), (u'Beescratch', u'Upbang', {'labels': 'hetero'}), (u'CCL', u'Double', {'labels': 'hetero'}), (u'CCL', u'Grin', {'labels': 'hetero'}), (u'CCL', u'Zap', {'labels': 'hetero'}), (u'MN60', u'SN100', {'labels': 'hetero'}), (u'MN60', u'Trigger', {'labels': 'hetero'}), (u'Feather', u'SN90', {'labels': 'hetero'}), (u'Feather', u'DN21', {'labels': 'hetero'}), (u'Feather', u'Ripplefluke', {'labels': 'hetero'}), (u'Feather', u'Gallatin', {'labels': 'hetero'}), (u'Wave', u'DN21', {'labels': 'hetero'}), (u'SN9', u'DN63', {'labels': 'hetero'}), (u'SN9', u'SN100', {'labels': 'hetero'}), (u'SN9', u'SN4', {'labels': 'hetero'}), (u'SN9', u'Beak', {'labels': 'hetero'}), (u'SN9', u'Scabs', {'labels': 'hetero'}), (u'SN9', u'TSN103', {'labels': 'hetero'}), (u'SN9', u'Grin', {'labels': 'hetero'}), (u'Fork', u'Scabs', {'labels': 'hetero'}), (u'Mus', u'Notch', {'labels': 'hetero'}), (u'Mus', u'Number1', {'labels': 'hetero'}), (u'DN63', u'Upbang', {'labels': 'hetero'}), (u'DN63', u'Knit', {'labels': 'hetero'}), (u'DN63', u'PL', {'labels': 'hetero'}), (u'DN63', u'Number1', {'labels': 'hetero'}), (u'DN21', u'Gallatin', {'labels': 'hetero'}), (u'DN21', u'Upbang', {'labels': 'hetero'}), (u'SN89', u'SN100', {'labels': 'hetero'}), (u'Stripes', u'TSN83', {'labels': 'hetero'}), (u'Stripes', u'SN63', {'labels': 'hetero'}), (u'Stripes', u'SN4', {'labels': 'hetero'}), (u'Stripes', u'Patchback', {'labels': 'hetero'}), (u'Stripes', u'Scabs', {'labels': 'hetero'}), (u'Stripes', u'TR120', {'labels': 'hetero'}), (u'Stripes', u'Grin', {'labels': 'hetero'}), (u'Jonah', u'Trigger', {'labels': 'hetero'}), (u'Jonah', u'Patchback', {'labels': 'hetero'}), (u'Jonah', u'MN105', {'labels': 'hetero'}), (u'Jonah', u'Kringel', {'labels': 'hetero'}), (u'Jonah', u'MN83', {'labels': 'hetero'}), (u'Zap', u'SN100', {'labels': 'hetero'}), (u'Zap', u'Double', {'labels': 'hetero'}), (u'Five', u'Trigger', {'labels': 'hetero'}), (u'Beak', u'TR77', {'labels': 'hetero'}), (u'Beak', u'SN96', {'labels': 'hetero'}), (u'Beak', u'Fish', {'labels': 'hetero'}), (u'Beak', u'Grin', {'labels': 'hetero'}), (u'Vau', u'Trigger', {'labels': 'hetero'}), (u'Knit', u'Upbang', {'labels': 'hetero'}), (u'Knit', u'PL', {'labels': 'hetero'}), (u'TSN103', u'SN63', {'labels': 'hetero'}), (u'TSN103', u'Patchback', {'labels': 'hetero'}), (u'TSN103', u'Grin', {'labels': 'hetero'}), (u'Grin', u'TR99', {'labels': 'hetero'}), (u'Grin', u'Hook', {'labels': 'hetero'}), (u'Grin', u'SN63', {'labels': 'hetero'}), (u'Grin', u'SN4', {'labels': 'hetero'}), (u'Grin', u'Scabs', {'labels': 'hetero'}), (u'Grin', u'MN83', {'labels': 'hetero'}), (u'TR77', u'SN96', {'labels': 'hetero'}), (u'TR77', u'Oscar', {'labels': 'hetero'}), (u'TR77', u'Fish', {'labels': 'hetero'}), (u'TR77', u'Kringel', {'labels': 'hetero'}), (u'TR77', u'PL', {'labels': 'hetero'}), (u'Double', u'Oscar', {'labels': 'hetero'}), (u'Double', u'SN4', {'labels': 'hetero'}), (u'Double', u'Kringel', {'labels': 'hetero'}), (u'Number1', u'Notch', {'labels': 'hetero'}), (u'Thumper', u'Kringel', {'labels': 'hetero'}), (u'Thumper', u'SN63', {'labels': 'hetero'}), (u'Thumper', u'Bumper', {'labels': 'hetero'}), (u'SN63', u'Whitetip', {'labels': 'hetero'}), (u'SN63', u'Hook', {'labels': 'hetero'}), (u'SN63', u'Scabs', {'labels': 'hetero'}), (u'SN63', u'Kringel', {'labels': 'hetero'}), (u'Trigger', u'TR99', {'labels': 'hetero'}), (u'Trigger', u'Patchback', {'labels': 'hetero'}), (u'Trigger', u'MN105', {'labels': 'hetero'}), (u'Trigger', u'MN83', {'labels': 'hetero'}), (u'Zig', u'Ripplefluke', {'labels': 'hetero'}), (u'Bumper', u'Zipfel', {'labels': 'hetero'}), (u'Bumper', u'Fish', {'labels': 'hetero'}), (u'Bumper', u'SN96', {'labels': 'hetero'}), (u'Ripplefluke', u'Gallatin', {'labels': 'hetero'}), (u'Kringel', u'TR99', {'labels': 'hetero'}), (u'Kringel', u'Hook', {'labels': 'hetero'}), (u'Kringel', u'SN100', {'labels': 'hetero'}), (u'Kringel', u'Oscar', {'labels': 'hetero'}), (u'TSN83', u'Zipfel', {'labels': 'hetero'}), (u'SN90', u'Gallatin', {'labels': 'hetero'}), (u'SN90', u'Upbang', {'labels': 'hetero'}), (u'TR99', u'SN96', {'labels': 'hetero'}), (u'TR99', u'Hook', {'labels': 'hetero'}), (u'TR99', u'Scabs', {'labels': 'hetero'}), (u'SN96', u'Fish', {'labels': 'hetero'}), (u'SN96', u'PL', {'labels': 'hetero'}), (u'SN100', u'SN4', {'labels': 'hetero'}), (u'TR120', u'TR88', {'labels': 'hetero'}), (u'Fish', u'Patchback', {'labels': 'hetero'}), (u'SN4', u'Zipfel', {'labels': 'hetero'}), (u'SN4', u'Hook', {'labels': 'hetero'}), (u'SN4', u'MN105', {'labels': 'hetero'}), (u'SN4', u'Scabs', {'labels': 'hetero'}), (u'Hook', u'Scabs', {'labels': 'hetero'}), (u'PL', u'Oscar', {'labels': 'hetero'}), (u'MN83', u'Patchback', {'labels': 'hetero'}), (u'Patchback', u'MN105', {'labels': 'hetero'}), (u'MN105', u'Scabs', {'labels': 'hetero'}), (u'Gallatin', u'Upbang', {'labels': 'hetero'})])"
      ]
     },
     "execution_count": 79,
     "metadata": {},
     "output_type": "execute_result"
    }
   ],
   "source": [
    "#list(G.edges)\n",
    "#print(list(G.edges)[0][0])\n",
    "#G.node[list(G.edges)[0][0]]['genero']\n",
    "#for i in range(0,len(list(G.edges))):\n",
    "#    if G.node[list(G.edges)[i][0]]['genero']==G.node[list(G.edges)[i][1]]['genero']:\n",
    "#print(list(G.edges)[0])\n",
    "#print(list(G.edges)[0])\n",
    "labels = 'hetero'\n",
    "nx.set_edge_attributes(G, labels, 'labels')\n",
    "#labels.append('fo')\n",
    "G.edges[list(G.edges)[10][0], list(G.edges)[10][1]]['labels']\n",
    "G.edges(data=True)"
   ]
  },
  {
   "cell_type": "code",
   "execution_count": 120,
   "metadata": {
    "scrolled": true
   },
   "outputs": [
    {
     "data": {
      "image/png": "[encoded data removed]",
      "text/plain": [
       "<Figure size 432x288 with 1 Axes>"
      ]
     },
     "metadata": {},
     "output_type": "display_data"
    }
   ],
   "source": [
    "#G=nx.path_graph(4)\n",
    "pos=nx.circular_layout(G)\n",
    "nx.draw(G, with_labels=False,node_color=colores, font_weight='bold',node_size=70,pos=pos,edge_width=0.1,edge_color='w')\n",
    "nx.draw_networkx_edges(G,pos,edgelist=[('Haecksel', 'Topless')],width=4,alpha=1,edge_color='g')\n",
    "nx.draw_networkx_edges(G,pos,edgelist=[('Gallatin', 'Upbang')],width=4,alpha=1,edge_color='r')\n",
    "plt.show()"
   ]
  },
  {
   "cell_type": "code",
   "execution_count": 6,
   "metadata": {},
   "outputs": [],
   "source": [
    "def delta_kronecker(x,y):\n",
    "    resultado=0\n",
    "    if x=='NA' or y== 'NA':\n",
    "        resultado=1\n",
    "    elif x==y:\n",
    "        resultado=1\n",
    "    return resultado\n",
    "## TAREA: imprimir el grado de los NA"
   ]
  },
  {
   "cell_type": "code",
   "execution_count": null,
   "metadata": {},
   "outputs": [],
   "source": []
  },
  {
   "cell_type": "code",
   "execution_count": 7,
   "metadata": {},
   "outputs": [
    {
     "data": {
      "text/plain": [
       "19"
      ]
     },
     "execution_count": 7,
     "metadata": {},
     "output_type": "execute_result"
    }
   ],
   "source": [
    "def enlaces_na(G):\n",
    "    i=0\n",
    "    enlaces_NA=0\n",
    "    for nodo in G:\n",
    "        if nx.get_node_attributes(G, \"genero\").values()[i]=='NA':\n",
    "            enlaces_NA+=list(G.degree)[i][1]\n",
    "        i+=1\n",
    "        \n",
    "    return enlaces_NA        \n",
    "enlaces_na(G)"
   ]
  },
  {
   "cell_type": "code",
   "execution_count": 8,
   "metadata": {},
   "outputs": [],
   "source": [
    "def modularity2(G): ## calcula la fraccion de enlaces entre nodos de distinto genero\n",
    "\tA = nx.adjacency_matrix(G)  # Matriz de adycencia\n",
    "\tm = G.number_of_edges()\n",
    "\tv=0\n",
    "\tsumando = 0.0\n",
    "\tenlaces = 0.0\n",
    "\tunion_mh = 0.0\n",
    "\tfor node_v in G:      # Loop de nodo v\n",
    "\t\tgenero_v = nx.get_node_attributes(G, \"genero\").values()[v]\n",
    "\t\tw=0\n",
    "\t\tfor node_w in G:  # Loop de nodo w\n",
    "\t\t\tgenero_w = nx.get_node_attributes(G, \"genero\").values()[w]\n",
    "\t\t\tif (A[v,w]):\n",
    "\t\t\t\tif( genero_v!='NA' and  genero_w!='NA'):\n",
    "\t\t\t\t\tenlaces += 1.0\n",
    "\t\t\t\t\tif(not (genero_v==genero_w)):\n",
    "\t\t\t\t\t\tunion_mh+=1.0\n",
    "\t\t\tw+=1\n",
    "\t\tv+=1\n",
    "\t#print(\"union mh:\",union_mh)\n",
    "\t#print(\"enlaces:\",enlaces)\n",
    "\tQ = union_mh/enlaces\n",
    "\treturn round(Q,3)"
   ]
  },
  {
   "cell_type": "code",
   "execution_count": 9,
   "metadata": {},
   "outputs": [
    {
     "name": "stdout",
     "output_type": "stream",
     "text": [
      "('mean random:', 0.49221000000000004)\n",
      "('DATA:', 0.454)\n",
      "CPU times: user 49.9 s, sys: 0 ns, total: 49.9 s\n",
      "Wall time: 49.9 s\n"
     ]
    }
   ],
   "source": [
    "%%time\n",
    "modularity_data=modularity2(G)\n",
    "nodes = nx.get_node_attributes(G, \"genero\").values()\n",
    "array_Q = []\n",
    "iter_max = 200\n",
    "iteracion=0\n",
    "G_copy = G.copy()\n",
    "while iteracion<iter_max:\n",
    "    random.shuffle(nodes)\n",
    "    i=0\n",
    "    for n in G_copy: # cambia el genero de los delfines\n",
    "        G_copy.node[n]['genero']= nodes[i]\n",
    "        i+=1\n",
    "    array_Q +=[modularity2(G_copy)]\n",
    "    iteracion+=1\n",
    "print(\"mean random:\",np.mean(array_Q))\n",
    "print(\"DATA:\",modularity_data)\n"
   ]
  },
  {
   "cell_type": "code",
   "execution_count": 10,
   "metadata": {},
   "outputs": [],
   "source": [
    "def find_nearest(array, value):\n",
    "    i=0\n",
    "    while i<len(array)-1:\n",
    "        if array[i]<=value and array[i+1]>=value:\n",
    "            distancia1 = abs(array[i]-value)\n",
    "            distancia2 = abs(array[i+1]-value)\n",
    "            if distancia1>=distancia2:\n",
    "                indice = i+1\n",
    "            else: \n",
    "                indice =i\n",
    "        i+=1\n",
    "    return indice"
   ]
  },
  {
   "cell_type": "code",
   "execution_count": 11,
   "metadata": {},
   "outputs": [
    {
     "name": "stdout",
     "output_type": "stream",
     "text": [
      "0.04401006589406565\n",
      "0.0452245992564\n"
     ]
    },
    {
     "name": "stderr",
     "output_type": "stream",
     "text": [
      "/home/sticco/anaconda2/lib/python2.7/site-packages/matplotlib/axes/_axes.py:6462: UserWarning: The 'normed' kwarg is deprecated, and has been replaced by the 'density' kwarg.\n",
      "  warnings.warn(\"The 'normed' kwarg is deprecated, and has been \"\n"
     ]
    },
    {
     "data": {
      "image/png": "[encoded data removed]",
      "text/plain": [
       "<Figure size 432x288 with 1 Axes>"
      ]
     },
     "metadata": {},
     "output_type": "display_data"
    }
   ],
   "source": [
    "cantidad_bins = 20\n",
    "bins= np.linspace(min(array_Q),max(array_Q),cantidad_bins)\n",
    "bin_size = (max(array_Q)-min(array_Q))/cantidad_bins\n",
    "plt.hist(array_Q,bins=bins,normed=True)\n",
    "plt.axvline(x=modularity_data,color ='r')\n",
    "print(np.std(array_Q))\n",
    "\n",
    "i=0\n",
    "suma_parcial=0.0\n",
    "while i<=find_nearest(bins,modularity_data):\n",
    "    suma_parcial += array_Q[i]*cantidad_bins\n",
    "    i+=1\n",
    "\n",
    "i=0\n",
    "suma_total=0.0\n",
    "while i<len(array_Q):\n",
    "    suma_total += array_Q[i]*cantidad_bins\n",
    "    i+=1  \n",
    "\n",
    "valor_p = suma_parcial/suma_total    \n",
    "print(valor_p)\n",
    "\n",
    "#modularity_data\n"
   ]
  },
  {
   "cell_type": "code",
   "execution_count": null,
   "metadata": {},
   "outputs": [],
   "source": []
  }
 ],
 "metadata": {
  "kernelspec": {
   "display_name": "Python 2",
   "language": "python",
   "name": "python2"
  },
  "language_info": {
   "codemirror_mode": {
    "name": "ipython",
    "version": 2
   },
   "file_extension": ".py",
   "mimetype": "text/x-python",
   "name": "python",
   "nbconvert_exporter": "python",
   "pygments_lexer": "ipython2",
   "version": "2.7.15"
  }
 },
 "nbformat": 4,
 "nbformat_minor": 2
}
